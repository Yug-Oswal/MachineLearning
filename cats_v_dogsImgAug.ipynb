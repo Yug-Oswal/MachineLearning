{
  "nbformat": 4,
  "nbformat_minor": 0,
  "metadata": {
    "colab": {
      "provenance": [],
      "gpuType": "T4",
      "authorship_tag": "ABX9TyOoUCFfxRHZvYMkFmLUFWsN",
      "include_colab_link": true
    },
    "kernelspec": {
      "name": "python3",
      "display_name": "Python 3"
    },
    "language_info": {
      "name": "python"
    },
    "accelerator": "GPU"
  },
  "cells": [
    {
      "cell_type": "markdown",
      "metadata": {
        "id": "view-in-github",
        "colab_type": "text"
      },
      "source": [
        "<a href=\"https://colab.research.google.com/github/Yug-Oswal/Yug/blob/main/cats_v_dogsImgAug.ipynb\" target=\"_parent\"><img src=\"https://colab.research.google.com/assets/colab-badge.svg\" alt=\"Open In Colab\"/></a>"
      ]
    },
    {
      "cell_type": "code",
      "execution_count": 1,
      "metadata": {
        "colab": {
          "base_uri": "https://localhost:8080/"
        },
        "id": "9EgQk0s35_ob",
        "outputId": "549f689d-4cad-43e6-be94-3e466108298d"
      },
      "outputs": [
        {
          "output_type": "stream",
          "name": "stdout",
          "text": [
            "--2023-06-24 05:08:44--  https://download.microsoft.com/download/3/E/1/3E1C3F21-ECDB-4869-8368-6DEBA77B919F/kagglecatsanddogs_5340.zip\n",
            "Resolving download.microsoft.com (download.microsoft.com)... 96.17.188.215, 2600:1413:b000:793::317f, 2600:1413:b000:78a::317f\n",
            "Connecting to download.microsoft.com (download.microsoft.com)|96.17.188.215|:443... connected.\n",
            "HTTP request sent, awaiting response... 200 OK\n",
            "Length: 824887076 (787M) [application/octet-stream]\n",
            "Saving to: ‘/tmp/cats-and-dogs.zip’\n",
            "\n",
            "/tmp/cats-and-dogs. 100%[===================>] 786.67M  76.2MB/s    in 10s     \n",
            "\n",
            "2023-06-24 05:08:54 (75.4 MB/s) - ‘/tmp/cats-and-dogs.zip’ saved [824887076/824887076]\n",
            "\n"
          ]
        }
      ],
      "source": [
        "!wget --no-check-certificate \\\n",
        "    \"https://download.microsoft.com/download/3/E/1/3E1C3F21-ECDB-4869-8368-6DEBA77B919F/kagglecatsanddogs_5340.zip\" \\\n",
        "    -O \"/tmp/cats-and-dogs.zip\""
      ]
    },
    {
      "cell_type": "code",
      "source": [
        "import zipfile\n",
        "import os\n",
        "\n",
        "zippath = '/tmp/cats-and-dogs.zip'\n",
        "zip_ref = zipfile.ZipFile(zippath, 'r')\n",
        "zip_ref.extractall('/tmp')\n",
        "zip_ref.close\n",
        "os.listdir('/tmp')"
      ],
      "metadata": {
        "colab": {
          "base_uri": "https://localhost:8080/"
        },
        "id": "8vXiPbRP6A1f",
        "outputId": "c4cc0de0-0317-4c13-bdc2-8f80fe8bce41"
      },
      "execution_count": 2,
      "outputs": [
        {
          "output_type": "execute_result",
          "data": {
            "text/plain": [
              "['CDLA-Permissive-2.0.pdf',\n",
              " 'pyright-356-gMKMNFgNtcQR',\n",
              " 'dap_multiplexer.INFO',\n",
              " 'initgoogle_syslog_dir.0',\n",
              " 'PetImages',\n",
              " 'dap_multiplexer.3d2e15c30207.root.log.INFO.20230624-050759.107',\n",
              " 'readme[1].txt',\n",
              " 'cats-and-dogs.zip',\n",
              " 'python-languageserver-cancellation',\n",
              " 'pyright-356-L6ItcweoTbNl',\n",
              " 'language_service.3d2e15c30207.root.log.INFO.20230624-050844.347',\n",
              " 'debugger_23cnndyw5n',\n",
              " 'language_service.INFO']"
            ]
          },
          "metadata": {},
          "execution_count": 2
        }
      ]
    },
    {
      "cell_type": "code",
      "source": [
        "# Checking subdirectories\n",
        "source_path = '/tmp/PetImages'\n",
        "os.listdir(source_path)"
      ],
      "metadata": {
        "colab": {
          "base_uri": "https://localhost:8080/"
        },
        "id": "D6X1WzGZ7ShA",
        "outputId": "0babe417-2e85-44c8-9534-7f237a52af6b"
      },
      "execution_count": 3,
      "outputs": [
        {
          "output_type": "execute_result",
          "data": {
            "text/plain": [
              "['Cat', 'Dog']"
            ]
          },
          "metadata": {},
          "execution_count": 3
        }
      ]
    },
    {
      "cell_type": "code",
      "source": [
        "# Establishing path variables to subdirs\n",
        "source_path_dog = os.path.join(source_path, \"Dog\")\n",
        "source_path_cat = os.path.join(source_path, \"Cat\")"
      ],
      "metadata": {
        "id": "alKRFOam7ubj"
      },
      "execution_count": 4,
      "outputs": []
    },
    {
      "cell_type": "code",
      "source": [
        "# Deletes all non-image files (there are two .db files bundled into the dataset)\n",
        "!find /tmp/PetImages -type f ! -name \"*.jpg\" -exec rm {} +"
      ],
      "metadata": {
        "id": "bbVXBD8N8F1m"
      },
      "execution_count": 5,
      "outputs": []
    },
    {
      "cell_type": "code",
      "source": [
        "# os.listdir returns a list containing all files under the given path\n",
        "print(f\"There are {len(os.listdir(source_path_dog))} images of dogs.\")\n",
        "print(f\"There are {len(os.listdir(source_path_cat))} images of cats.\")"
      ],
      "metadata": {
        "colab": {
          "base_uri": "https://localhost:8080/"
        },
        "id": "8Cuu3LF_tSl9",
        "outputId": "16dcd67f-a76d-411a-bcaf-0946b2655849"
      },
      "execution_count": 6,
      "outputs": [
        {
          "output_type": "stream",
          "name": "stdout",
          "text": [
            "There are 12500 images of dogs.\n",
            "There are 12500 images of cats.\n"
          ]
        }
      ]
    },
    {
      "cell_type": "code",
      "source": [
        "# Creating the training and validation directories\n",
        "root_dir = '/tmp/cats-v-dogs'\n",
        "\n",
        "import shutil\n",
        "\n",
        "if os.path.exists(root_dir):\n",
        "  shutil.rmtree(root_dir)\n",
        "\n",
        "def create_train_val_dirs(root_path):\n",
        "  train_path = os.path.join(root_path, \"training\")\n",
        "  test_path = os.path.join(root_path, \"validation\")\n",
        "\n",
        "  train_path_dogs, train_path_cats = os.path.join(train_path, \"dogs\"), os.path.join(train_path, \"cats\")\n",
        "  test_path_dogs, test_path_cats = os.path.join(test_path, \"dogs\"), os.path.join(test_path, \"cats\")\n",
        "\n",
        "  os.makedirs(train_path_dogs)\n",
        "  os.mkdir(train_path_cats)\n",
        "  os.makedirs(test_path_dogs)\n",
        "  os.mkdir(test_path_cats)\n",
        "\n",
        "try:\n",
        "  create_train_val_dirs(root_path=root_dir)\n",
        "except FileExistsError:\n",
        "  print(\"You should not be seeing this since the upper directory is removed beforehand\")"
      ],
      "metadata": {
        "id": "p4edFiCVtfeM"
      },
      "execution_count": 7,
      "outputs": []
    },
    {
      "cell_type": "code",
      "source": [
        "# Traversing the directories\n",
        "\n",
        "for rootdir, dirs, files in os.walk(root_dir):\n",
        "  for subdir in dirs:\n",
        "    print(os.path.join(rootdir, subdir))"
      ],
      "metadata": {
        "colab": {
          "base_uri": "https://localhost:8080/"
        },
        "id": "Ud9Oya1o_vBg",
        "outputId": "0ae4233f-f094-4746-f7cd-dd0120bdb92e"
      },
      "execution_count": 8,
      "outputs": [
        {
          "output_type": "stream",
          "name": "stdout",
          "text": [
            "/tmp/cats-v-dogs/validation\n",
            "/tmp/cats-v-dogs/training\n",
            "/tmp/cats-v-dogs/validation/cats\n",
            "/tmp/cats-v-dogs/validation/dogs\n",
            "/tmp/cats-v-dogs/training/cats\n",
            "/tmp/cats-v-dogs/training/dogs\n"
          ]
        }
      ]
    },
    {
      "cell_type": "code",
      "source": [
        "# Moving data as per given split size\n",
        "import random\n",
        "\n",
        "def split_data(SOURCE_DIR, TRAINING_DIR, VALIDATION_DIR, SPLIT_SIZE):\n",
        "\n",
        "  dmgfile = 0\n",
        "  for classes in os.listdir(SOURCE_DIR):\n",
        "    filecount1, filecount2 = 0, 0\n",
        "    files = os.listdir(os.path.join(SOURCE_DIR, classes))\n",
        "\n",
        "    # Shuffling the list of files\n",
        "    files = random.sample(files, len(files))\n",
        "\n",
        "    if (classes == \"Dog\"):\n",
        "      toclass = \"dogs\"\n",
        "    else:\n",
        "      toclass = \"cats\"\n",
        "\n",
        "    # Empty the already existing directories if anything exists\n",
        "    topath1 = os.path.join(TRAINING_DIR, toclass)\n",
        "    topath2 = os.path.join(VALIDATION_DIR, toclass)\n",
        "    shutil.rmtree(topath1)\n",
        "    os.mkdir(topath1)\n",
        "    shutil.rmtree(topath2)\n",
        "    os.mkdir(topath2)\n",
        "\n",
        "    # Counting and deleting corrupted files\n",
        "    filtered_files = []\n",
        "    for fname in files:\n",
        "        file_path = os.path.join(SOURCE_DIR, classes, fname)\n",
        "        if os.path.getsize(file_path):\n",
        "            filtered_files.append(fname)\n",
        "        else:\n",
        "            dmgfile += 1\n",
        "            print(f\"{fname} is zero length, so ignoring\")\n",
        "\n",
        "    # Copying and moving files\n",
        "\n",
        "    filebound = round(SPLIT_SIZE * len(filtered_files))\n",
        "\n",
        "    for count in range(filebound):\n",
        "      path = os.path.join(SOURCE_DIR, classes, filtered_files[count])\n",
        "      topath = os.path.join(topath1, filtered_files[count])\n",
        "      shutil.copyfile(path, topath)\n",
        "\n",
        "    for count in range(filebound, len(filtered_files)):\n",
        "      path = os.path.join(SOURCE_DIR, classes, filtered_files[count])\n",
        "      topath = os.path.join(topath2, filtered_files[count])\n",
        "      shutil.copyfile(path, topath)\n",
        "\n",
        "    # Providing statistics\n",
        "    print(f\"There are {filebound} images of {toclass} for training.\")\n",
        "    print(f\"There are {len(filtered_files) - filebound} images of {toclass} for testing\")\n",
        "\n",
        "  print(f\"Found {dmgfile} corrupted file(s).\")"
      ],
      "metadata": {
        "id": "gmjBoRfeBFjC"
      },
      "execution_count": 9,
      "outputs": []
    },
    {
      "cell_type": "code",
      "source": [
        "# Testing split data function\n",
        "\n",
        "training_dir = os.path.join(root_dir, \"training\")\n",
        "validation_dir = os.path.join(root_dir, \"validation\")\n",
        "split_data(source_path, training_dir, validation_dir, 0.9)"
      ],
      "metadata": {
        "colab": {
          "base_uri": "https://localhost:8080/"
        },
        "id": "8THJ8OEYFN4k",
        "outputId": "9d7e3e2d-7426-4f72-9cd8-0d448e3c1797"
      },
      "execution_count": 10,
      "outputs": [
        {
          "output_type": "stream",
          "name": "stdout",
          "text": [
            "666.jpg is zero length, so ignoring\n",
            "There are 11249 images of cats for training.\n",
            "There are 1250 images of cats for testing\n",
            "11702.jpg is zero length, so ignoring\n",
            "There are 11249 images of dogs for training.\n",
            "There are 1250 images of dogs for testing\n",
            "Found 2 corrupted file(s).\n"
          ]
        }
      ]
    },
    {
      "cell_type": "code",
      "source": [
        "# Neural Network part start\n",
        "\n",
        "# Importing all required libraries and modules\n",
        "import tensorflow as tf\n",
        "from tensorflow.keras.preprocessing.image import ImageDataGenerator\n",
        "import matplotlib.pyplot as plt"
      ],
      "metadata": {
        "id": "S1RnYZRnF_f5"
      },
      "execution_count": 11,
      "outputs": []
    },
    {
      "cell_type": "code",
      "source": [
        "# Creating a function which returns training and validation generators\n",
        "\n",
        "def train_val_generators(TRAINING_DIR, VALIDATION_DIR):\n",
        "  train_datagen = ImageDataGenerator(rescale = 1./255,\n",
        "                                     rotation_range = 0.2,\n",
        "                                     width_shift_range = 0.2,\n",
        "                                     height_shift_range = 0.2,\n",
        "                                     shear_range = 0.2,\n",
        "                                     zoom_range = 0.2,\n",
        "                                     horizontal_flip = True,\n",
        "                                     fill_mode = 'nearest')\n",
        "\n",
        "  train_generator = train_datagen.flow_from_directory(TRAINING_DIR,\n",
        "                                                    target_size = (150, 150),\n",
        "                                                    batch_size = 128,\n",
        "                                                    class_mode = 'binary')\n",
        "\n",
        "  validation_generator = train_datagen.flow_from_directory(VALIDATION_DIR,\n",
        "                                                         target_size = (150, 150),\n",
        "                                                         batch_size = 25,\n",
        "                                                         class_mode = 'binary')\n",
        "\n",
        "  return train_generator, validation_generator"
      ],
      "metadata": {
        "id": "zx7PUSJFUnR9"
      },
      "execution_count": 18,
      "outputs": []
    },
    {
      "cell_type": "code",
      "source": [
        "# Instantiating the generators\n",
        "train_gen, val_gen = train_val_generators(training_dir, validation_dir)"
      ],
      "metadata": {
        "colab": {
          "base_uri": "https://localhost:8080/"
        },
        "id": "W3vvyHLcV_3Y",
        "outputId": "2487d8c1-e94f-41a0-a17b-014c69bbba3c"
      },
      "execution_count": 19,
      "outputs": [
        {
          "output_type": "stream",
          "name": "stdout",
          "text": [
            "Found 22498 images belonging to 2 classes.\n",
            "Found 2500 images belonging to 2 classes.\n"
          ]
        }
      ]
    },
    {
      "cell_type": "code",
      "source": [
        "# Defining model architecture and network\n",
        "model = tf.keras.models.Sequential([\n",
        "    tf.keras.layers.Conv2D(32, (3, 3), input_shape = (150, 150, 3), activation = 'relu'),\n",
        "    tf.keras.layers.MaxPooling2D(2, 2),\n",
        "    tf.keras.layers.Conv2D(32, (3, 3), input_shape = (150, 150, 3), activation = 'relu'),\n",
        "    tf.keras.layers.MaxPooling2D(2, 2),\n",
        "    tf.keras.layers.Conv2D(64, (3, 3), input_shape = (150, 150, 3), activation = 'relu'),\n",
        "    tf.keras.layers.MaxPooling2D(2, 2),\n",
        "\n",
        "    tf.keras.layers.Flatten(),\n",
        "    tf.keras.layers.Dense(512, activation = 'relu'),\n",
        "    tf.keras.layers.Dense(1, activation = 'sigmoid')\n",
        "])"
      ],
      "metadata": {
        "id": "V9QTSDK0WLvj"
      },
      "execution_count": 14,
      "outputs": []
    },
    {
      "cell_type": "code",
      "source": [
        "# Model Summary\n",
        "model.summary()"
      ],
      "metadata": {
        "colab": {
          "base_uri": "https://localhost:8080/"
        },
        "id": "UTlVjeeiXMdb",
        "outputId": "9a35b83a-2e9a-41ea-aee8-c5fc1792b740"
      },
      "execution_count": 15,
      "outputs": [
        {
          "output_type": "stream",
          "name": "stdout",
          "text": [
            "Model: \"sequential\"\n",
            "_________________________________________________________________\n",
            " Layer (type)                Output Shape              Param #   \n",
            "=================================================================\n",
            " conv2d (Conv2D)             (None, 148, 148, 32)      896       \n",
            "                                                                 \n",
            " max_pooling2d (MaxPooling2D  (None, 74, 74, 32)       0         \n",
            " )                                                               \n",
            "                                                                 \n",
            " conv2d_1 (Conv2D)           (None, 72, 72, 32)        9248      \n",
            "                                                                 \n",
            " max_pooling2d_1 (MaxPooling  (None, 36, 36, 32)       0         \n",
            " 2D)                                                             \n",
            "                                                                 \n",
            " conv2d_2 (Conv2D)           (None, 34, 34, 64)        18496     \n",
            "                                                                 \n",
            " max_pooling2d_2 (MaxPooling  (None, 17, 17, 64)       0         \n",
            " 2D)                                                             \n",
            "                                                                 \n",
            " flatten (Flatten)           (None, 18496)             0         \n",
            "                                                                 \n",
            " dense (Dense)               (None, 512)               9470464   \n",
            "                                                                 \n",
            " dense_1 (Dense)             (None, 1)                 513       \n",
            "                                                                 \n",
            "=================================================================\n",
            "Total params: 9,499,617\n",
            "Trainable params: 9,499,617\n",
            "Non-trainable params: 0\n",
            "_________________________________________________________________\n"
          ]
        }
      ]
    },
    {
      "cell_type": "code",
      "source": [
        "# Compiling the model\n",
        "model.compile(loss = 'binary_crossentropy', optimizer = tf.keras.optimizers.Adam(learning_rate = 0.001), metrics = ['accuracy'])"
      ],
      "metadata": {
        "id": "rc3_qxEKXpDU"
      },
      "execution_count": 21,
      "outputs": []
    },
    {
      "cell_type": "code",
      "source": [
        "# Training the model\n",
        "\n",
        "history = model.fit(train_gen,\n",
        "                    epochs = 15,\n",
        "                    validation_data = val_gen,\n",
        "                    validation_steps = 100,\n",
        "                    verbose = 1)"
      ],
      "metadata": {
        "colab": {
          "base_uri": "https://localhost:8080/"
        },
        "id": "0vFtIlDiYKtv",
        "outputId": "0321ba04-2fc7-4a90-b73a-9aa0261c249a"
      },
      "execution_count": 22,
      "outputs": [
        {
          "output_type": "stream",
          "name": "stdout",
          "text": [
            "Epoch 1/15\n",
            "176/176 [==============================] - ETA: 0s - loss: 0.6499 - accuracy: 0.6089"
          ]
        },
        {
          "output_type": "stream",
          "name": "stderr",
          "text": [
            "/usr/local/lib/python3.10/dist-packages/PIL/TiffImagePlugin.py:819: UserWarning: Truncated File Read\n",
            "  warnings.warn(str(msg))\n"
          ]
        },
        {
          "output_type": "stream",
          "name": "stdout",
          "text": [
            "\b\b\b\b\b\b\b\b\b\b\b\b\b\b\b\b\b\b\b\b\b\b\b\b\b\b\b\b\b\b\b\b\b\b\b\b\b\b\b\b\b\b\b\b\b\b\b\b\b\b\b\b\b\b\b\b\b\b\b\b\b\b\b\b\b\b\b\b\b\b\b\b\b\b\b\b\b\b\b\b\b\b\b\b\r176/176 [==============================] - 209s 1s/step - loss: 0.6499 - accuracy: 0.6089 - val_loss: 0.6208 - val_accuracy: 0.6716\n",
            "Epoch 2/15\n",
            "176/176 [==============================] - 201s 1s/step - loss: 0.5840 - accuracy: 0.6909 - val_loss: 0.5699 - val_accuracy: 0.6988\n",
            "Epoch 3/15\n",
            "176/176 [==============================] - 201s 1s/step - loss: 0.5538 - accuracy: 0.7146 - val_loss: 0.5255 - val_accuracy: 0.7424\n",
            "Epoch 4/15\n",
            "176/176 [==============================] - 202s 1s/step - loss: 0.5147 - accuracy: 0.7446 - val_loss: 0.4941 - val_accuracy: 0.7568\n",
            "Epoch 5/15\n",
            "176/176 [==============================] - 200s 1s/step - loss: 0.4926 - accuracy: 0.7618 - val_loss: 0.4991 - val_accuracy: 0.7576\n",
            "Epoch 6/15\n",
            "176/176 [==============================] - 199s 1s/step - loss: 0.4610 - accuracy: 0.7818 - val_loss: 0.4485 - val_accuracy: 0.7892\n",
            "Epoch 7/15\n",
            "176/176 [==============================] - 200s 1s/step - loss: 0.4532 - accuracy: 0.7877 - val_loss: 0.4525 - val_accuracy: 0.7884\n",
            "Epoch 8/15\n",
            "176/176 [==============================] - 201s 1s/step - loss: 0.4321 - accuracy: 0.7985 - val_loss: 0.4307 - val_accuracy: 0.8016\n",
            "Epoch 9/15\n",
            "176/176 [==============================] - 200s 1s/step - loss: 0.4138 - accuracy: 0.8073 - val_loss: 0.4053 - val_accuracy: 0.8208\n",
            "Epoch 10/15\n",
            "176/176 [==============================] - 202s 1s/step - loss: 0.3976 - accuracy: 0.8190 - val_loss: 0.3875 - val_accuracy: 0.8296\n",
            "Epoch 11/15\n",
            "176/176 [==============================] - 201s 1s/step - loss: 0.3867 - accuracy: 0.8232 - val_loss: 0.3904 - val_accuracy: 0.8252\n",
            "Epoch 12/15\n",
            "176/176 [==============================] - 201s 1s/step - loss: 0.3693 - accuracy: 0.8358 - val_loss: 0.3708 - val_accuracy: 0.8328\n",
            "Epoch 13/15\n",
            "176/176 [==============================] - 200s 1s/step - loss: 0.3564 - accuracy: 0.8420 - val_loss: 0.3717 - val_accuracy: 0.8320\n",
            "Epoch 14/15\n",
            "176/176 [==============================] - 200s 1s/step - loss: 0.3508 - accuracy: 0.8467 - val_loss: 0.3632 - val_accuracy: 0.8328\n",
            "Epoch 15/15\n",
            "176/176 [==============================] - 201s 1s/step - loss: 0.3394 - accuracy: 0.8503 - val_loss: 0.3365 - val_accuracy: 0.8508\n"
          ]
        }
      ]
    },
    {
      "cell_type": "code",
      "source": [
        "# Plotting the training of data (emphasis on the check for overfitting)\n",
        "\n",
        "hist = history.history\n",
        "epochs = range(len(hist['loss']))\n",
        "acc = hist['accuracy']\n",
        "val_acc = hist['val_accuracy']\n",
        "loss = hist['loss']\n",
        "val_loss = hist['val_loss']\n",
        "\n",
        "#------------------------------------------------\n",
        "# Plot training and validation accuracy per epoch\n",
        "#------------------------------------------------\n",
        "plt.plot(epochs, acc, 'r', \"Training Accuracy\")\n",
        "plt.plot(epochs, val_acc, 'b', \"Validation Accuracy\")\n",
        "plt.title('Training and validation accuracy')\n",
        "plt.show()\n",
        "print(\"\")\n",
        "\n",
        "#------------------------------------------------\n",
        "# Plot training and validation loss per epoch\n",
        "#------------------------------------------------\n",
        "plt.plot(epochs, loss, 'r', \"Training Loss\")\n",
        "plt.plot(epochs, val_loss, 'b', \"Validation Loss\")\n",
        "plt.show()"
      ],
      "metadata": {
        "colab": {
          "base_uri": "https://localhost:8080/",
          "height": 882
        },
        "id": "w6F-_VzZYw0c",
        "outputId": "b83da3d2-c52e-4b32-f8d4-ba2677893b9a"
      },
      "execution_count": 24,
      "outputs": [
        {
          "output_type": "display_data",
          "data": {
            "text/plain": [
              "<Figure size 640x480 with 1 Axes>"
            ],
            "image/png": "[encoded data removed]"
          },
          "metadata": {}
        },
        {
          "output_type": "stream",
          "name": "stdout",
          "text": [
            "\n"
          ]
        },
        {
          "output_type": "display_data",
          "data": {
            "text/plain": [
              "<Figure size 640x480 with 1 Axes>"
            ],
            "image/png": "[encoded data removed]"
          },
          "metadata": {}
        }
      ]
    }
  ]
}